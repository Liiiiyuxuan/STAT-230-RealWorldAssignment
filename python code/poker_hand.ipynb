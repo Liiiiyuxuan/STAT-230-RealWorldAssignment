{
 "cells": [
  {
   "cell_type": "markdown",
   "metadata": {},
   "source": [
    "# Python modelling frequency of poker hands"
   ]
  },
  {
   "cell_type": "code",
   "execution_count": 8,
   "metadata": {},
   "outputs": [],
   "source": [
    "import itertools\n",
    "import random\n",
    "from collections import Counter"
   ]
  },
  {
   "cell_type": "code",
   "execution_count": 9,
   "metadata": {},
   "outputs": [],
   "source": [
    "hand_types = ['Straight Flush', 'Quad', 'Full House', 'Flush', 'Straight', 'Triple', 'Two Pairs', 'Pair', 'High Card']\n",
    "hand_type_counters = {player: {hand_type: 0 for hand_type in hand_types} for player in ['Player 1', 'Player 2']}\n",
    "\n",
    "card_rank_map = {rank: i for i, rank in enumerate('23456789TJQKA', 2)}\n",
    "num_simulations = 10000\n",
    "random.seed(42)"
   ]
  },
  {
   "cell_type": "code",
   "execution_count": 10,
   "metadata": {},
   "outputs": [],
   "source": [
    "def create_deck():\n",
    "    ranks = '23456789TJQKA'\n",
    "    suits = 'HDCS'\n",
    "    return [rank + suit for rank in ranks for suit in suits]\n",
    "\n",
    "def is_straight_flush(hand):\n",
    "    return is_flush(hand) and is_straight(hand)\n",
    "\n",
    "def is_quad(hand):\n",
    "    return any(count == 4 for count in get_rank_counts(hand).values())\n",
    "\n",
    "def is_full_house(hand):\n",
    "    rank_counts = get_rank_counts(hand)\n",
    "    return set(rank_counts.values()) == {2, 3}\n",
    "\n",
    "def is_flush(hand):\n",
    "    suits = [card[1] for card in hand]\n",
    "    return len(set(suits)) == 1\n",
    "\n",
    "def is_straight(hand):\n",
    "    ranks = sorted([card_rank_map[card[0]] for card in hand])\n",
    "    return ranks == list(range(min(ranks), min(ranks)+5))\n",
    "\n",
    "def is_triple(hand):\n",
    "    return any(count == 3 for count in get_rank_counts(hand).values())\n",
    "\n",
    "def is_two_pairs(hand):\n",
    "    return list(get_rank_counts(hand).values()).count(2) == 2\n",
    "\n",
    "def is_pair(hand):\n",
    "    return any(count == 2 for count in get_rank_counts(hand).values())\n",
    "\n",
    "# Helper functions\n",
    "def get_rank_counts(hand):\n",
    "    ranks = [card[0] for card in hand]\n",
    "    return Counter(ranks)\n",
    "\n",
    "def find_best_hand(cards):\n",
    "    all_combinations = itertools.combinations(cards, 5)\n",
    "    best_hand = 'High Card'\n",
    "    for combo in all_combinations:\n",
    "        if is_straight_flush(combo):\n",
    "            best_hand = 'Straight Flush'\n",
    "            break\n",
    "        elif is_quad(combo) and best_hand != 'Straight Flush':\n",
    "            best_hand = 'Quad'\n",
    "        elif is_full_house(combo) and best_hand not in ['Straight Flush', 'Quad']:\n",
    "            best_hand = 'Full House'\n",
    "        elif is_flush(combo) and best_hand not in ['Straight Flush', 'Quad', 'Full House']:\n",
    "            best_hand = 'Flush'\n",
    "        elif is_straight(combo) and best_hand not in ['Straight Flush', 'Quad', 'Full House', 'Flush']:\n",
    "            best_hand = 'Straight'\n",
    "        elif is_triple(combo) and best_hand not in ['Straight Flush', 'Quad', 'Full House', 'Flush', 'Straight']:\n",
    "            best_hand = 'Triple'\n",
    "        elif is_two_pairs(combo) and best_hand not in ['Straight Flush', 'Quad', 'Full House', 'Flush', 'Straight', 'Triple']:\n",
    "            best_hand = 'Two Pairs'\n",
    "        elif is_pair(combo) and best_hand not in ['Straight Flush', 'Quad', 'Full House', 'Flush', 'Straight', 'Triple', 'Two Pairs']:\n",
    "            best_hand = 'Pair'\n",
    "    return best_hand"
   ]
  },
  {
   "cell_type": "code",
   "execution_count": 11,
   "metadata": {},
   "outputs": [
    {
     "name": "stdout",
     "output_type": "stream",
     "text": [
      "Player 1:\n",
      "Straight Flush: 4\n",
      "Quad: 15\n",
      "Full House: 250\n",
      "Flush: 307\n",
      "Straight: 447\n",
      "Triple: 536\n",
      "Two Pairs: 2341\n",
      "Pair: 4355\n",
      "High Card: 1745\n",
      "\n",
      "Player 2:\n",
      "Straight Flush: 5\n",
      "Quad: 11\n",
      "Full House: 259\n",
      "Flush: 274\n",
      "Straight: 439\n",
      "Triple: 461\n",
      "Two Pairs: 2368\n",
      "Pair: 4395\n",
      "High Card: 1788\n",
      "\n"
     ]
    }
   ],
   "source": [
    "for _ in range(num_simulations):\n",
    "    deck = create_deck()\n",
    "    random.shuffle(deck)\n",
    "    \n",
    "    player1_cards = deck[:2]\n",
    "    player2_cards = deck[2:4]\n",
    "    community_cards = deck[4:9]\n",
    "    \n",
    "    player1_hand = find_best_hand(player1_cards + community_cards)\n",
    "    player2_hand = find_best_hand(player2_cards + community_cards)\n",
    "    \n",
    "    hand_type_counters['Player 1'][player1_hand] += 1\n",
    "    hand_type_counters['Player 2'][player2_hand] += 1\n",
    "\n",
    "for player, counters in hand_type_counters.items():\n",
    "    print(f\"{player}:\")\n",
    "    for hand_type, count in counters.items():\n",
    "        print(f\"{hand_type}: {count}\")\n",
    "    print()"
   ]
  }
 ],
 "metadata": {
  "kernelspec": {
   "display_name": "Python 3",
   "language": "python",
   "name": "python3"
  },
  "language_info": {
   "codemirror_mode": {
    "name": "ipython",
    "version": 3
   },
   "file_extension": ".py",
   "mimetype": "text/x-python",
   "name": "python",
   "nbconvert_exporter": "python",
   "pygments_lexer": "ipython3",
   "version": "3.11.4"
  }
 },
 "nbformat": 4,
 "nbformat_minor": 2
}
