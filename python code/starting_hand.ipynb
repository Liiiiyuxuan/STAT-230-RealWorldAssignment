{
 "cells": [
  {
   "cell_type": "markdown",
   "metadata": {},
   "source": [
    "# Python modelling frequency of starting hands\n"
   ]
  },
  {
   "cell_type": "code",
   "execution_count": 2,
   "metadata": {},
   "outputs": [],
   "source": [
    "# Import necessary libraries\n",
    "import random\n",
    "from itertools import combinations"
   ]
  },
  {
   "cell_type": "code",
   "execution_count": 6,
   "metadata": {},
   "outputs": [
    {
     "name": "stdout",
     "output_type": "stream",
     "text": [
      "Pocket Pair: 5976\n",
      "Suited: 23167\n",
      "Unsuited: 76833\n",
      "Contains Ace or King: 28643\n",
      "Does Not Contain Ace or King: 71357\n"
     ]
    }
   ],
   "source": [
    "# Define the ranks and suits\n",
    "ranks = ['2', '3', '4', '5', '6', '7', '8', '9', 'T', 'J', 'Q', 'K', 'A']\n",
    "suits = ['H', 'D', 'C', 'S']  # Use single letters for simplicity\n",
    "\n",
    "# Generate the deck of cards\n",
    "deck = [rank + suit for suit in suits for rank in ranks]\n",
    "\n",
    "# Initialize counters for each hand type\n",
    "counters = {\n",
    "    'Pocket Pair': 0,\n",
    "    'Suited': 0,\n",
    "    'Unsuited': 0,\n",
    "    'Contains Ace or King': 0,\n",
    "    'Does Not Contain Ace or King': 0\n",
    "}\n",
    "\n",
    "# Simulate dealing hands\n",
    "num_simulations = 100000\n",
    "random.seed(42)  # For reproducibility\n",
    "\n",
    "for _ in range(num_simulations):\n",
    "    random.shuffle(deck)\n",
    "    dealt_hand = deck[:2]  # Deal the first two cards from the shuffled deck\n",
    "\n",
    "    # Check for Pocket Pair\n",
    "    if dealt_hand[0][0] == dealt_hand[1][0]:\n",
    "        counters['Pocket Pair'] += 1\n",
    "    \n",
    "    # Check for Suited/Unsuited\n",
    "    if dealt_hand[0][1] == dealt_hand[1][1]:\n",
    "        counters['Suited'] += 1\n",
    "    else:\n",
    "        counters['Unsuited'] += 1\n",
    "    \n",
    "    # Check for Contains Ace or King\n",
    "    if 'A' in dealt_hand[0] or 'A' in dealt_hand[1] or 'K' in dealt_hand[0] or 'K' in dealt_hand[1]:\n",
    "        counters['Contains Ace or King'] += 1\n",
    "    else:\n",
    "        counters['Does Not Contain Ace or King'] += 1\n",
    "\n",
    "# Display the results\n",
    "for hand_type, count in counters.items():\n",
    "    print(f\"{hand_type}: {count}\")"
   ]
  }
 ],
 "metadata": {
  "kernelspec": {
   "display_name": "Python 3",
   "language": "python",
   "name": "python3"
  },
  "language_info": {
   "codemirror_mode": {
    "name": "ipython",
    "version": 3
   },
   "file_extension": ".py",
   "mimetype": "text/x-python",
   "name": "python",
   "nbconvert_exporter": "python",
   "pygments_lexer": "ipython3",
   "version": "3.11.4"
  }
 },
 "nbformat": 4,
 "nbformat_minor": 2
}
